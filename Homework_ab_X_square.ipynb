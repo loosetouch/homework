{
  "nbformat": 4,
  "nbformat_minor": 0,
  "metadata": {
    "colab": {
      "name": "Lustach_hw_ab_X_square.ipynb",
      "provenance": [],
      "collapsed_sections": []
    },
    "kernelspec": {
      "display_name": "Python 3",
      "name": "python3"
    },
    "language_info": {
      "name": "python"
    }
  },
  "cells": [
    {
      "cell_type": "code",
      "metadata": {
        "id": "uIU66YvQFUga"
      },
      "source": [
        "import pandas as pd\n",
        "import matplotlib.pyplot as plt\n",
        "from datetime import datetime, time\n",
        "from scipy.stats import chi2\n",
        "import numpy as np"
      ],
      "execution_count": 1,
      "outputs": []
    },
    {
      "cell_type": "code",
      "metadata": {
        "colab": {
          "base_uri": "https://localhost:8080/"
        },
        "id": "sNCnosU_F1u5",
        "outputId": "369c112b-6532-4b83-a795-1cfeee114e91"
      },
      "source": [
        "from google.colab import drive\n",
        "drive.mount('/content/drive')"
      ],
      "execution_count": 2,
      "outputs": [
        {
          "output_type": "stream",
          "text": [
            "Mounted at /content/drive\n"
          ],
          "name": "stdout"
        }
      ]
    },
    {
      "cell_type": "code",
      "metadata": {
        "id": "PHE_wFQyF1q7"
      },
      "source": [
        "experiment1_1 = pd.read_csv('drive/My Drive/experiment1_1.csv')\n",
        "experiment1_2 = pd.read_csv('drive/My Drive/experiment1_2.csv')\n",
        "experiment2_1 = pd.read_csv('drive/My Drive/experiment2_1.csv')\n",
        "experiment2_2 = pd.read_csv('drive/My Drive/experiment2_2.csv')"
      ],
      "execution_count": 3,
      "outputs": []
    },
    {
      "cell_type": "markdown",
      "metadata": {
        "id": "tObMWAilU2F8"
      },
      "source": [
        "Посмотрим на датасеты эксперимента 1 - вроде сравнимы, по 5 тыс пользователей и не пересекаются, второй эксперимент по длительности немного больше - но, видимо, добирали нужную базу"
      ]
    },
    {
      "cell_type": "code",
      "metadata": {
        "colab": {
          "base_uri": "https://localhost:8080/",
          "height": 414
        },
        "id": "bmH5kXi6VDpx",
        "outputId": "ca468ced-28a3-401e-a973-c6c114816f4d"
      },
      "source": [
        "experiment1_1"
      ],
      "execution_count": 4,
      "outputs": [
        {
          "output_type": "execute_result",
          "data": {
            "text/html": [
              "<div>\n",
              "<style scoped>\n",
              "    .dataframe tbody tr th:only-of-type {\n",
              "        vertical-align: middle;\n",
              "    }\n",
              "\n",
              "    .dataframe tbody tr th {\n",
              "        vertical-align: top;\n",
              "    }\n",
              "\n",
              "    .dataframe thead th {\n",
              "        text-align: right;\n",
              "    }\n",
              "</style>\n",
              "<table border=\"1\" class=\"dataframe\">\n",
              "  <thead>\n",
              "    <tr style=\"text-align: right;\">\n",
              "      <th></th>\n",
              "      <th>client_id</th>\n",
              "      <th>user_session</th>\n",
              "      <th>timestamp</th>\n",
              "      <th>event</th>\n",
              "      <th>session</th>\n",
              "    </tr>\n",
              "  </thead>\n",
              "  <tbody>\n",
              "    <tr>\n",
              "      <th>0</th>\n",
              "      <td>10505</td>\n",
              "      <td>1</td>\n",
              "      <td>2020-05-01 00:00:00.000000000</td>\n",
              "      <td>main</td>\n",
              "      <td>105051</td>\n",
              "    </tr>\n",
              "    <tr>\n",
              "      <th>1</th>\n",
              "      <td>10505</td>\n",
              "      <td>1</td>\n",
              "      <td>2020-05-01 00:00:00.000000000</td>\n",
              "      <td>phones</td>\n",
              "      <td>105051</td>\n",
              "    </tr>\n",
              "    <tr>\n",
              "      <th>2</th>\n",
              "      <td>10505</td>\n",
              "      <td>1</td>\n",
              "      <td>2020-05-01 00:00:00.000000000</td>\n",
              "      <td>phones/apple</td>\n",
              "      <td>105051</td>\n",
              "    </tr>\n",
              "    <tr>\n",
              "      <th>3</th>\n",
              "      <td>10505</td>\n",
              "      <td>1</td>\n",
              "      <td>2020-05-01 00:00:00.000000000</td>\n",
              "      <td>phones</td>\n",
              "      <td>105051</td>\n",
              "    </tr>\n",
              "    <tr>\n",
              "      <th>4</th>\n",
              "      <td>10505</td>\n",
              "      <td>1</td>\n",
              "      <td>2020-05-01 00:00:00.000000000</td>\n",
              "      <td>main</td>\n",
              "      <td>105051</td>\n",
              "    </tr>\n",
              "    <tr>\n",
              "      <th>...</th>\n",
              "      <td>...</td>\n",
              "      <td>...</td>\n",
              "      <td>...</td>\n",
              "      <td>...</td>\n",
              "      <td>...</td>\n",
              "    </tr>\n",
              "    <tr>\n",
              "      <th>352211</th>\n",
              "      <td>15504</td>\n",
              "      <td>8</td>\n",
              "      <td>2020-08-13 15:27:19.500289692</td>\n",
              "      <td>phones/apple</td>\n",
              "      <td>155048</td>\n",
              "    </tr>\n",
              "    <tr>\n",
              "      <th>352212</th>\n",
              "      <td>15504</td>\n",
              "      <td>8</td>\n",
              "      <td>2020-08-13 15:27:19.500289692</td>\n",
              "      <td>phones</td>\n",
              "      <td>155048</td>\n",
              "    </tr>\n",
              "    <tr>\n",
              "      <th>352213</th>\n",
              "      <td>15504</td>\n",
              "      <td>8</td>\n",
              "      <td>2020-08-13 15:27:19.500289692</td>\n",
              "      <td>phones/apple</td>\n",
              "      <td>155048</td>\n",
              "    </tr>\n",
              "    <tr>\n",
              "      <th>352214</th>\n",
              "      <td>15504</td>\n",
              "      <td>8</td>\n",
              "      <td>2020-08-13 15:27:19.500289692</td>\n",
              "      <td>phones</td>\n",
              "      <td>155048</td>\n",
              "    </tr>\n",
              "    <tr>\n",
              "      <th>352215</th>\n",
              "      <td>15504</td>\n",
              "      <td>8</td>\n",
              "      <td>2020-08-13 15:27:19.500289692</td>\n",
              "      <td>lost</td>\n",
              "      <td>155048</td>\n",
              "    </tr>\n",
              "  </tbody>\n",
              "</table>\n",
              "<p>352216 rows × 5 columns</p>\n",
              "</div>"
            ],
            "text/plain": [
              "        client_id  user_session  ...         event session\n",
              "0           10505             1  ...          main  105051\n",
              "1           10505             1  ...        phones  105051\n",
              "2           10505             1  ...  phones/apple  105051\n",
              "3           10505             1  ...        phones  105051\n",
              "4           10505             1  ...          main  105051\n",
              "...           ...           ...  ...           ...     ...\n",
              "352211      15504             8  ...  phones/apple  155048\n",
              "352212      15504             8  ...        phones  155048\n",
              "352213      15504             8  ...  phones/apple  155048\n",
              "352214      15504             8  ...        phones  155048\n",
              "352215      15504             8  ...          lost  155048\n",
              "\n",
              "[352216 rows x 5 columns]"
            ]
          },
          "metadata": {
            "tags": []
          },
          "execution_count": 4
        }
      ]
    },
    {
      "cell_type": "code",
      "metadata": {
        "colab": {
          "base_uri": "https://localhost:8080/"
        },
        "id": "jGIGtkDxa765",
        "outputId": "9a753f2d-40b4-400e-9813-0edf0a8e5438"
      },
      "source": [
        "experiment1_1.dtypes"
      ],
      "execution_count": 5,
      "outputs": [
        {
          "output_type": "execute_result",
          "data": {
            "text/plain": [
              "client_id        int64\n",
              "user_session     int64\n",
              "timestamp       object\n",
              "event           object\n",
              "session          int64\n",
              "dtype: object"
            ]
          },
          "metadata": {
            "tags": []
          },
          "execution_count": 5
        }
      ]
    },
    {
      "cell_type": "code",
      "metadata": {
        "colab": {
          "base_uri": "https://localhost:8080/"
        },
        "id": "1XfrTStXbxkM",
        "outputId": "1ca489b1-4756-4069-f624-29ff9e009204"
      },
      "source": [
        "experiment1_1['client_id'].nunique()"
      ],
      "execution_count": 6,
      "outputs": [
        {
          "output_type": "execute_result",
          "data": {
            "text/plain": [
              "5000"
            ]
          },
          "metadata": {
            "tags": []
          },
          "execution_count": 6
        }
      ]
    },
    {
      "cell_type": "code",
      "metadata": {
        "colab": {
          "base_uri": "https://localhost:8080/",
          "height": 414
        },
        "id": "Df1Yoke8VJ9Y",
        "outputId": "091c0bbf-3d79-441e-a50d-7584fbd1e262"
      },
      "source": [
        "experiment1_2"
      ],
      "execution_count": 7,
      "outputs": [
        {
          "output_type": "execute_result",
          "data": {
            "text/html": [
              "<div>\n",
              "<style scoped>\n",
              "    .dataframe tbody tr th:only-of-type {\n",
              "        vertical-align: middle;\n",
              "    }\n",
              "\n",
              "    .dataframe tbody tr th {\n",
              "        vertical-align: top;\n",
              "    }\n",
              "\n",
              "    .dataframe thead th {\n",
              "        text-align: right;\n",
              "    }\n",
              "</style>\n",
              "<table border=\"1\" class=\"dataframe\">\n",
              "  <thead>\n",
              "    <tr style=\"text-align: right;\">\n",
              "      <th></th>\n",
              "      <th>client_id</th>\n",
              "      <th>user_session</th>\n",
              "      <th>timestamp</th>\n",
              "      <th>event</th>\n",
              "      <th>session</th>\n",
              "    </tr>\n",
              "  </thead>\n",
              "  <tbody>\n",
              "    <tr>\n",
              "      <th>0</th>\n",
              "      <td>15505</td>\n",
              "      <td>1</td>\n",
              "      <td>2020-05-01 00:00:00.000000000</td>\n",
              "      <td>main</td>\n",
              "      <td>155051</td>\n",
              "    </tr>\n",
              "    <tr>\n",
              "      <th>1</th>\n",
              "      <td>15505</td>\n",
              "      <td>1</td>\n",
              "      <td>2020-05-01 00:00:00.000000000</td>\n",
              "      <td>laptops</td>\n",
              "      <td>155051</td>\n",
              "    </tr>\n",
              "    <tr>\n",
              "      <th>2</th>\n",
              "      <td>15505</td>\n",
              "      <td>1</td>\n",
              "      <td>2020-05-01 00:00:00.000000000</td>\n",
              "      <td>main</td>\n",
              "      <td>155051</td>\n",
              "    </tr>\n",
              "    <tr>\n",
              "      <th>3</th>\n",
              "      <td>15505</td>\n",
              "      <td>1</td>\n",
              "      <td>2020-05-01 00:00:00.000000000</td>\n",
              "      <td>phones</td>\n",
              "      <td>155051</td>\n",
              "    </tr>\n",
              "    <tr>\n",
              "      <th>4</th>\n",
              "      <td>15505</td>\n",
              "      <td>1</td>\n",
              "      <td>2020-05-01 00:00:00.000000000</td>\n",
              "      <td>lost</td>\n",
              "      <td>155051</td>\n",
              "    </tr>\n",
              "    <tr>\n",
              "      <th>...</th>\n",
              "      <td>...</td>\n",
              "      <td>...</td>\n",
              "      <td>...</td>\n",
              "      <td>...</td>\n",
              "      <td>...</td>\n",
              "    </tr>\n",
              "    <tr>\n",
              "      <th>354800</th>\n",
              "      <td>20504</td>\n",
              "      <td>5</td>\n",
              "      <td>2020-07-31 17:27:53.704342993</td>\n",
              "      <td>lost</td>\n",
              "      <td>205045</td>\n",
              "    </tr>\n",
              "    <tr>\n",
              "      <th>354801</th>\n",
              "      <td>20504</td>\n",
              "      <td>6</td>\n",
              "      <td>2020-09-07 12:39:43.565471364</td>\n",
              "      <td>main</td>\n",
              "      <td>205046</td>\n",
              "    </tr>\n",
              "    <tr>\n",
              "      <th>354802</th>\n",
              "      <td>20504</td>\n",
              "      <td>6</td>\n",
              "      <td>2020-09-07 12:39:43.565471364</td>\n",
              "      <td>laptops</td>\n",
              "      <td>205046</td>\n",
              "    </tr>\n",
              "    <tr>\n",
              "      <th>354803</th>\n",
              "      <td>20504</td>\n",
              "      <td>6</td>\n",
              "      <td>2020-09-07 12:39:43.565471364</td>\n",
              "      <td>main</td>\n",
              "      <td>205046</td>\n",
              "    </tr>\n",
              "    <tr>\n",
              "      <th>354804</th>\n",
              "      <td>20504</td>\n",
              "      <td>6</td>\n",
              "      <td>2020-09-07 12:39:43.565471364</td>\n",
              "      <td>lost</td>\n",
              "      <td>205046</td>\n",
              "    </tr>\n",
              "  </tbody>\n",
              "</table>\n",
              "<p>354805 rows × 5 columns</p>\n",
              "</div>"
            ],
            "text/plain": [
              "        client_id  user_session  ...    event session\n",
              "0           15505             1  ...     main  155051\n",
              "1           15505             1  ...  laptops  155051\n",
              "2           15505             1  ...     main  155051\n",
              "3           15505             1  ...   phones  155051\n",
              "4           15505             1  ...     lost  155051\n",
              "...           ...           ...  ...      ...     ...\n",
              "354800      20504             5  ...     lost  205045\n",
              "354801      20504             6  ...     main  205046\n",
              "354802      20504             6  ...  laptops  205046\n",
              "354803      20504             6  ...     main  205046\n",
              "354804      20504             6  ...     lost  205046\n",
              "\n",
              "[354805 rows x 5 columns]"
            ]
          },
          "metadata": {
            "tags": []
          },
          "execution_count": 7
        }
      ]
    },
    {
      "cell_type": "code",
      "metadata": {
        "colab": {
          "base_uri": "https://localhost:8080/"
        },
        "id": "GGvr_tVsfOyu",
        "outputId": "000736a8-4412-4e7a-c13b-a817509b961c"
      },
      "source": [
        "experiment1_2.dtypes"
      ],
      "execution_count": 8,
      "outputs": [
        {
          "output_type": "execute_result",
          "data": {
            "text/plain": [
              "client_id        int64\n",
              "user_session     int64\n",
              "timestamp       object\n",
              "event           object\n",
              "session          int64\n",
              "dtype: object"
            ]
          },
          "metadata": {
            "tags": []
          },
          "execution_count": 8
        }
      ]
    },
    {
      "cell_type": "code",
      "metadata": {
        "colab": {
          "base_uri": "https://localhost:8080/"
        },
        "id": "jDzAZLmmfWMI",
        "outputId": "ad16a4fa-c846-4965-a968-151ea6ed9ec8"
      },
      "source": [
        "experiment1_1['client_id'].nunique()"
      ],
      "execution_count": 9,
      "outputs": [
        {
          "output_type": "execute_result",
          "data": {
            "text/plain": [
              "5000"
            ]
          },
          "metadata": {
            "tags": []
          },
          "execution_count": 9
        }
      ]
    },
    {
      "cell_type": "code",
      "metadata": {
        "colab": {
          "base_uri": "https://localhost:8080/"
        },
        "id": "ZolEV9T7avMt",
        "outputId": "7d04c065-9497-42b1-900b-158f061f4aa7"
      },
      "source": [
        "len(set(experiment1_1['client_id']).difference(set(experiment1_2['client_id'])))"
      ],
      "execution_count": 10,
      "outputs": [
        {
          "output_type": "execute_result",
          "data": {
            "text/plain": [
              "5000"
            ]
          },
          "metadata": {
            "tags": []
          },
          "execution_count": 10
        }
      ]
    },
    {
      "cell_type": "markdown",
      "metadata": {
        "id": "P34pR6tGUnId"
      },
      "source": [
        "Посмотрим какие события у нас есть, чтобы понять событие, которое отвечает за конверсию. События в датасетах одинаковые (и их количества, кстати, тоже более-менее похожи), за событие конверсии будем считать payment_done"
      ]
    },
    {
      "cell_type": "code",
      "metadata": {
        "id": "9OVzpAuCsmy9",
        "colab": {
          "base_uri": "https://localhost:8080/"
        },
        "outputId": "ed0d4808-fcfa-44e5-b968-0a7848bda833"
      },
      "source": [
        "experiment1_1['event'].value_counts()"
      ],
      "execution_count": 28,
      "outputs": [
        {
          "output_type": "execute_result",
          "data": {
            "text/plain": [
              "main                    73526\n",
              "phones                  61311\n",
              "phones/apple            45289\n",
              "lost                    40200\n",
              "laptops                 36398\n",
              "item_details            25522\n",
              "laptops/xiaomi/1234     18242\n",
              "laptops/xiaomi          17159\n",
              "phones/apple/123        15013\n",
              "item_reviews             6616\n",
              "support                  5260\n",
              "cart                     2821\n",
              "fill_user_info           1996\n",
              "support/message_sent     1939\n",
              "checkout                  786\n",
              "payment_done              138\n",
              "Name: event, dtype: int64"
            ]
          },
          "metadata": {
            "tags": []
          },
          "execution_count": 28
        }
      ]
    },
    {
      "cell_type": "code",
      "metadata": {
        "colab": {
          "base_uri": "https://localhost:8080/"
        },
        "id": "JCjWiqVKnbb7",
        "outputId": "e9153470-7e37-46c2-f683-842eb136cd6a"
      },
      "source": [
        "experiment1_2['event'].value_counts()"
      ],
      "execution_count": 27,
      "outputs": [
        {
          "output_type": "execute_result",
          "data": {
            "text/plain": [
              "main                    74269\n",
              "phones                  61593\n",
              "phones/apple            45642\n",
              "lost                    40378\n",
              "laptops                 36829\n",
              "item_details            25657\n",
              "laptops/xiaomi/1234     18479\n",
              "laptops/xiaomi          17324\n",
              "phones/apple/123        15362\n",
              "item_reviews             6485\n",
              "support                  5201\n",
              "cart                     2724\n",
              "fill_user_info           1988\n",
              "support/message_sent     1858\n",
              "checkout                  862\n",
              "payment_done              154\n",
              "Name: event, dtype: int64"
            ]
          },
          "metadata": {
            "tags": []
          },
          "execution_count": 27
        }
      ]
    },
    {
      "cell_type": "markdown",
      "metadata": {
        "id": "2tiI-8iNoSd8"
      },
      "source": [
        "Посмотрим, какое количество уникальных пользователей сконвертировалось в группах"
      ]
    },
    {
      "cell_type": "code",
      "metadata": {
        "id": "RZ45GcGNA9gY",
        "colab": {
          "base_uri": "https://localhost:8080/"
        },
        "outputId": "eea68dd2-b20b-4868-9559-e55fbf88206a"
      },
      "source": [
        "experiment1_1[experiment1_1['event']=='payment_done']['client_id'].nunique()"
      ],
      "execution_count": 13,
      "outputs": [
        {
          "output_type": "execute_result",
          "data": {
            "text/plain": [
              "138"
            ]
          },
          "metadata": {
            "tags": []
          },
          "execution_count": 13
        }
      ]
    },
    {
      "cell_type": "code",
      "metadata": {
        "colab": {
          "base_uri": "https://localhost:8080/"
        },
        "id": "cYRoKscVmbA8",
        "outputId": "3d851497-f0fa-4c9d-f23f-5a84a87ed2a1"
      },
      "source": [
        "experiment1_2[experiment1_2['event']=='payment_done']['client_id'].nunique()"
      ],
      "execution_count": 14,
      "outputs": [
        {
          "output_type": "execute_result",
          "data": {
            "text/plain": [
              "151"
            ]
          },
          "metadata": {
            "tags": []
          },
          "execution_count": 14
        }
      ]
    },
    {
      "cell_type": "markdown",
      "metadata": {
        "id": "b0JlKOS-KJOU"
      },
      "source": [
        "Посмотрим на хи квадрат (метрика, подходящая для конверсии):"
      ]
    },
    {
      "cell_type": "code",
      "metadata": {
        "colab": {
          "base_uri": "https://localhost:8080/"
        },
        "id": "1WpNdcnDpq4m",
        "outputId": "d178d809-3912-4273-9c27-f6c5b965dd56"
      },
      "source": [
        "O=np.array([138,151,4862,4849])\n",
        "T=np.array([145,145,4855,4855])\n",
        "D=np.sum(np.square(T-O)/T)\n",
        "pvalue=chi2.sf(D, df=1)\n",
        "print(\"distance d: {0}\\np-value: {1}\".format(D,pvalue))"
      ],
      "execution_count": 37,
      "outputs": [
        {
          "output_type": "stream",
          "text": [
            "distance d: 0.6037146205476047\n",
            "p-value: 0.4371642296367684\n"
          ],
          "name": "stdout"
        }
      ]
    },
    {
      "cell_type": "markdown",
      "metadata": {
        "id": "D2064CWCvQGC"
      },
      "source": [
        "p-value сильно больше 0,05, не можем с уверенностью сказать, что изменение страниц в эксперименте значимо повлияло на конверсию в лучшую сторону. Уточнила тут за кадром еще страницу корзины - тоже нет разницы, воронки сильно идентичные, даже невооруженным взглядом"
      ]
    },
    {
      "cell_type": "markdown",
      "metadata": {
        "id": "VpyxLelXlX6l"
      },
      "source": [
        "Посмотрим на результаты второго эксперимента"
      ]
    },
    {
      "cell_type": "code",
      "metadata": {
        "colab": {
          "base_uri": "https://localhost:8080/",
          "height": 414
        },
        "id": "DBDORPi-wmK7",
        "outputId": "3b4b4429-57ca-4322-939e-22e999ecfe48"
      },
      "source": [
        "experiment2_1"
      ],
      "execution_count": 19,
      "outputs": [
        {
          "output_type": "execute_result",
          "data": {
            "text/html": [
              "<div>\n",
              "<style scoped>\n",
              "    .dataframe tbody tr th:only-of-type {\n",
              "        vertical-align: middle;\n",
              "    }\n",
              "\n",
              "    .dataframe tbody tr th {\n",
              "        vertical-align: top;\n",
              "    }\n",
              "\n",
              "    .dataframe thead th {\n",
              "        text-align: right;\n",
              "    }\n",
              "</style>\n",
              "<table border=\"1\" class=\"dataframe\">\n",
              "  <thead>\n",
              "    <tr style=\"text-align: right;\">\n",
              "      <th></th>\n",
              "      <th>client_id</th>\n",
              "      <th>user_session</th>\n",
              "      <th>timestamp</th>\n",
              "      <th>event</th>\n",
              "      <th>session</th>\n",
              "    </tr>\n",
              "  </thead>\n",
              "  <tbody>\n",
              "    <tr>\n",
              "      <th>0</th>\n",
              "      <td>10505</td>\n",
              "      <td>1</td>\n",
              "      <td>2020-05-01 00:00:00.000000000</td>\n",
              "      <td>main</td>\n",
              "      <td>105051</td>\n",
              "    </tr>\n",
              "    <tr>\n",
              "      <th>1</th>\n",
              "      <td>10505</td>\n",
              "      <td>1</td>\n",
              "      <td>2020-05-01 00:00:00.000000000</td>\n",
              "      <td>phones</td>\n",
              "      <td>105051</td>\n",
              "    </tr>\n",
              "    <tr>\n",
              "      <th>2</th>\n",
              "      <td>10505</td>\n",
              "      <td>1</td>\n",
              "      <td>2020-05-01 00:00:00.000000000</td>\n",
              "      <td>phones/apple</td>\n",
              "      <td>105051</td>\n",
              "    </tr>\n",
              "    <tr>\n",
              "      <th>3</th>\n",
              "      <td>10505</td>\n",
              "      <td>1</td>\n",
              "      <td>2020-05-01 00:00:00.000000000</td>\n",
              "      <td>phones</td>\n",
              "      <td>105051</td>\n",
              "    </tr>\n",
              "    <tr>\n",
              "      <th>4</th>\n",
              "      <td>10505</td>\n",
              "      <td>1</td>\n",
              "      <td>2020-05-01 00:00:00.000000000</td>\n",
              "      <td>main</td>\n",
              "      <td>105051</td>\n",
              "    </tr>\n",
              "    <tr>\n",
              "      <th>...</th>\n",
              "      <td>...</td>\n",
              "      <td>...</td>\n",
              "      <td>...</td>\n",
              "      <td>...</td>\n",
              "      <td>...</td>\n",
              "    </tr>\n",
              "    <tr>\n",
              "      <th>352211</th>\n",
              "      <td>15504</td>\n",
              "      <td>8</td>\n",
              "      <td>2020-08-13 15:27:19.500289692</td>\n",
              "      <td>phones/apple</td>\n",
              "      <td>155048</td>\n",
              "    </tr>\n",
              "    <tr>\n",
              "      <th>352212</th>\n",
              "      <td>15504</td>\n",
              "      <td>8</td>\n",
              "      <td>2020-08-13 15:27:19.500289692</td>\n",
              "      <td>phones</td>\n",
              "      <td>155048</td>\n",
              "    </tr>\n",
              "    <tr>\n",
              "      <th>352213</th>\n",
              "      <td>15504</td>\n",
              "      <td>8</td>\n",
              "      <td>2020-08-13 15:27:19.500289692</td>\n",
              "      <td>phones/apple</td>\n",
              "      <td>155048</td>\n",
              "    </tr>\n",
              "    <tr>\n",
              "      <th>352214</th>\n",
              "      <td>15504</td>\n",
              "      <td>8</td>\n",
              "      <td>2020-08-13 15:27:19.500289692</td>\n",
              "      <td>phones</td>\n",
              "      <td>155048</td>\n",
              "    </tr>\n",
              "    <tr>\n",
              "      <th>352215</th>\n",
              "      <td>15504</td>\n",
              "      <td>8</td>\n",
              "      <td>2020-08-13 15:27:19.500289692</td>\n",
              "      <td>lost</td>\n",
              "      <td>155048</td>\n",
              "    </tr>\n",
              "  </tbody>\n",
              "</table>\n",
              "<p>352216 rows × 5 columns</p>\n",
              "</div>"
            ],
            "text/plain": [
              "        client_id  user_session  ...         event session\n",
              "0           10505             1  ...          main  105051\n",
              "1           10505             1  ...        phones  105051\n",
              "2           10505             1  ...  phones/apple  105051\n",
              "3           10505             1  ...        phones  105051\n",
              "4           10505             1  ...          main  105051\n",
              "...           ...           ...  ...           ...     ...\n",
              "352211      15504             8  ...  phones/apple  155048\n",
              "352212      15504             8  ...        phones  155048\n",
              "352213      15504             8  ...  phones/apple  155048\n",
              "352214      15504             8  ...        phones  155048\n",
              "352215      15504             8  ...          lost  155048\n",
              "\n",
              "[352216 rows x 5 columns]"
            ]
          },
          "metadata": {
            "tags": []
          },
          "execution_count": 19
        }
      ]
    },
    {
      "cell_type": "code",
      "metadata": {
        "colab": {
          "base_uri": "https://localhost:8080/",
          "height": 414
        },
        "id": "xzEOg4U1nHQL",
        "outputId": "18404a97-c572-4034-e3b3-d3cd13c5395c"
      },
      "source": [
        "experiment2_2"
      ],
      "execution_count": 20,
      "outputs": [
        {
          "output_type": "execute_result",
          "data": {
            "text/html": [
              "<div>\n",
              "<style scoped>\n",
              "    .dataframe tbody tr th:only-of-type {\n",
              "        vertical-align: middle;\n",
              "    }\n",
              "\n",
              "    .dataframe tbody tr th {\n",
              "        vertical-align: top;\n",
              "    }\n",
              "\n",
              "    .dataframe thead th {\n",
              "        text-align: right;\n",
              "    }\n",
              "</style>\n",
              "<table border=\"1\" class=\"dataframe\">\n",
              "  <thead>\n",
              "    <tr style=\"text-align: right;\">\n",
              "      <th></th>\n",
              "      <th>client_id</th>\n",
              "      <th>user_session</th>\n",
              "      <th>timestamp</th>\n",
              "      <th>event</th>\n",
              "      <th>session</th>\n",
              "    </tr>\n",
              "  </thead>\n",
              "  <tbody>\n",
              "    <tr>\n",
              "      <th>0</th>\n",
              "      <td>20505</td>\n",
              "      <td>1</td>\n",
              "      <td>2020-05-01 00:00:00.000000000</td>\n",
              "      <td>main</td>\n",
              "      <td>205051</td>\n",
              "    </tr>\n",
              "    <tr>\n",
              "      <th>1</th>\n",
              "      <td>20505</td>\n",
              "      <td>1</td>\n",
              "      <td>2020-05-01 00:00:00.000000000</td>\n",
              "      <td>laptops</td>\n",
              "      <td>205051</td>\n",
              "    </tr>\n",
              "    <tr>\n",
              "      <th>2</th>\n",
              "      <td>20505</td>\n",
              "      <td>1</td>\n",
              "      <td>2020-05-01 00:00:00.000000000</td>\n",
              "      <td>laptops/xiaomi</td>\n",
              "      <td>205051</td>\n",
              "    </tr>\n",
              "    <tr>\n",
              "      <th>3</th>\n",
              "      <td>20505</td>\n",
              "      <td>1</td>\n",
              "      <td>2020-05-01 00:00:00.000000000</td>\n",
              "      <td>laptops/xiaomi/1234</td>\n",
              "      <td>205051</td>\n",
              "    </tr>\n",
              "    <tr>\n",
              "      <th>4</th>\n",
              "      <td>20505</td>\n",
              "      <td>1</td>\n",
              "      <td>2020-05-01 00:00:00.000000000</td>\n",
              "      <td>item_details</td>\n",
              "      <td>205051</td>\n",
              "    </tr>\n",
              "    <tr>\n",
              "      <th>...</th>\n",
              "      <td>...</td>\n",
              "      <td>...</td>\n",
              "      <td>...</td>\n",
              "      <td>...</td>\n",
              "      <td>...</td>\n",
              "    </tr>\n",
              "    <tr>\n",
              "      <th>604668</th>\n",
              "      <td>25504</td>\n",
              "      <td>8</td>\n",
              "      <td>2020-11-15 01:14:40.752860170</td>\n",
              "      <td>laptops/xiaomi/1234</td>\n",
              "      <td>255048</td>\n",
              "    </tr>\n",
              "    <tr>\n",
              "      <th>604669</th>\n",
              "      <td>25504</td>\n",
              "      <td>8</td>\n",
              "      <td>2020-11-15 01:14:40.752860170</td>\n",
              "      <td>laptops/xiaomi</td>\n",
              "      <td>255048</td>\n",
              "    </tr>\n",
              "    <tr>\n",
              "      <th>604670</th>\n",
              "      <td>25504</td>\n",
              "      <td>8</td>\n",
              "      <td>2020-11-15 01:14:40.752860170</td>\n",
              "      <td>laptops</td>\n",
              "      <td>255048</td>\n",
              "    </tr>\n",
              "    <tr>\n",
              "      <th>604671</th>\n",
              "      <td>25504</td>\n",
              "      <td>8</td>\n",
              "      <td>2020-11-15 01:14:40.752860170</td>\n",
              "      <td>laptops/xiaomi</td>\n",
              "      <td>255048</td>\n",
              "    </tr>\n",
              "    <tr>\n",
              "      <th>604672</th>\n",
              "      <td>25504</td>\n",
              "      <td>8</td>\n",
              "      <td>2020-11-15 01:14:40.752860170</td>\n",
              "      <td>lost</td>\n",
              "      <td>255048</td>\n",
              "    </tr>\n",
              "  </tbody>\n",
              "</table>\n",
              "<p>604673 rows × 5 columns</p>\n",
              "</div>"
            ],
            "text/plain": [
              "        client_id  user_session  ...                event session\n",
              "0           20505             1  ...                 main  205051\n",
              "1           20505             1  ...              laptops  205051\n",
              "2           20505             1  ...       laptops/xiaomi  205051\n",
              "3           20505             1  ...  laptops/xiaomi/1234  205051\n",
              "4           20505             1  ...         item_details  205051\n",
              "...           ...           ...  ...                  ...     ...\n",
              "604668      25504             8  ...  laptops/xiaomi/1234  255048\n",
              "604669      25504             8  ...       laptops/xiaomi  255048\n",
              "604670      25504             8  ...              laptops  255048\n",
              "604671      25504             8  ...       laptops/xiaomi  255048\n",
              "604672      25504             8  ...                 lost  255048\n",
              "\n",
              "[604673 rows x 5 columns]"
            ]
          },
          "metadata": {
            "tags": []
          },
          "execution_count": 20
        }
      ]
    },
    {
      "cell_type": "code",
      "metadata": {
        "colab": {
          "base_uri": "https://localhost:8080/"
        },
        "id": "0Rlc7aVLnHCz",
        "outputId": "7dd76749-d120-4b8d-af5d-c61b2abf285d"
      },
      "source": [
        "experiment2_1['client_id'].nunique()"
      ],
      "execution_count": 22,
      "outputs": [
        {
          "output_type": "execute_result",
          "data": {
            "text/plain": [
              "5000"
            ]
          },
          "metadata": {
            "tags": []
          },
          "execution_count": 22
        }
      ]
    },
    {
      "cell_type": "code",
      "metadata": {
        "colab": {
          "base_uri": "https://localhost:8080/"
        },
        "id": "2yFrk9KxnXe3",
        "outputId": "2ba635d3-a3bc-4481-ea07-829aaa742e24"
      },
      "source": [
        "experiment2_2['client_id'].nunique()"
      ],
      "execution_count": 23,
      "outputs": [
        {
          "output_type": "execute_result",
          "data": {
            "text/plain": [
              "5000"
            ]
          },
          "metadata": {
            "tags": []
          },
          "execution_count": 23
        }
      ]
    },
    {
      "cell_type": "code",
      "metadata": {
        "colab": {
          "base_uri": "https://localhost:8080/"
        },
        "id": "vVrRAMnJnZWh",
        "outputId": "2d9f317d-ea93-4ac1-f0a9-1df20dc08800"
      },
      "source": [
        "len(set(experiment1_1['client_id']).difference(set(experiment1_2['client_id'])))"
      ],
      "execution_count": 24,
      "outputs": [
        {
          "output_type": "execute_result",
          "data": {
            "text/plain": [
              "5000"
            ]
          },
          "metadata": {
            "tags": []
          },
          "execution_count": 24
        }
      ]
    },
    {
      "cell_type": "code",
      "metadata": {
        "colab": {
          "base_uri": "https://localhost:8080/"
        },
        "id": "9w7ouqXNnhK1",
        "outputId": "a5dd039c-e073-4eb3-cab0-c137cd194c00"
      },
      "source": [
        "experiment2_1['event'].value_counts()"
      ],
      "execution_count": 39,
      "outputs": [
        {
          "output_type": "execute_result",
          "data": {
            "text/plain": [
              "main                    73526\n",
              "phones                  61311\n",
              "phones/apple            45289\n",
              "lost                    40200\n",
              "laptops                 36398\n",
              "item_details            25522\n",
              "laptops/xiaomi/1234     18242\n",
              "laptops/xiaomi          17159\n",
              "phones/apple/123        15013\n",
              "item_reviews             6616\n",
              "support                  5260\n",
              "cart                     2821\n",
              "fill_user_info           1996\n",
              "support/message_sent     1939\n",
              "checkout                  786\n",
              "payment_done              138\n",
              "Name: event, dtype: int64"
            ]
          },
          "metadata": {
            "tags": []
          },
          "execution_count": 39
        }
      ]
    },
    {
      "cell_type": "markdown",
      "metadata": {
        "id": "r9w-UsKwqlT6"
      },
      "source": [
        "Контрольная группа, похоже, та же"
      ]
    },
    {
      "cell_type": "code",
      "metadata": {
        "colab": {
          "base_uri": "https://localhost:8080/"
        },
        "id": "EAP-0yMRo_yx",
        "outputId": "41bff12f-ff4c-49f1-8d07-0751afe65a12"
      },
      "source": [
        "experiment2_1[experiment2_1['event']=='payment_done']['client_id'].nunique()"
      ],
      "execution_count": 35,
      "outputs": [
        {
          "output_type": "execute_result",
          "data": {
            "text/plain": [
              "138"
            ]
          },
          "metadata": {
            "tags": []
          },
          "execution_count": 35
        }
      ]
    },
    {
      "cell_type": "code",
      "metadata": {
        "colab": {
          "base_uri": "https://localhost:8080/"
        },
        "id": "dRVjCEw8n5_P",
        "outputId": "ecba80b0-e966-4fc9-ccb8-0f8c36b6cbe0"
      },
      "source": [
        "experiment2_2['event'].value_counts()"
      ],
      "execution_count": 30,
      "outputs": [
        {
          "output_type": "execute_result",
          "data": {
            "text/plain": [
              "phones                  103255\n",
              "main                     92897\n",
              "phones/apple             86718\n",
              "item_details             65636\n",
              "laptops                  49822\n",
              "laptops/xiaomi/1234      40998\n",
              "lost                     39266\n",
              "phones/apple/123         35741\n",
              "laptops/xiaomi           31675\n",
              "item_reviews             18064\n",
              "support                  14547\n",
              "cart                      8582\n",
              "fill_user_info            6971\n",
              "support/message_sent      6439\n",
              "checkout                  3109\n",
              "payment_done               953\n",
              "Name: event, dtype: int64"
            ]
          },
          "metadata": {
            "tags": []
          },
          "execution_count": 30
        }
      ]
    },
    {
      "cell_type": "markdown",
      "metadata": {
        "id": "vZvmrBKhonl1"
      },
      "source": [
        "О, что-то интересное"
      ]
    },
    {
      "cell_type": "code",
      "metadata": {
        "colab": {
          "base_uri": "https://localhost:8080/"
        },
        "id": "89OPR3Ekoryf",
        "outputId": "884167c0-ef68-4a66-9efb-60070605615a"
      },
      "source": [
        "experiment2_2[experiment2_2['event']=='payment_done']['client_id'].nunique()"
      ],
      "execution_count": 34,
      "outputs": [
        {
          "output_type": "execute_result",
          "data": {
            "text/plain": [
              "873"
            ]
          },
          "metadata": {
            "tags": []
          },
          "execution_count": 34
        }
      ]
    },
    {
      "cell_type": "markdown",
      "metadata": {
        "id": "AKZ9qJMPvoE0"
      },
      "source": [
        "Кто-то даже пару раз покупал"
      ]
    },
    {
      "cell_type": "code",
      "metadata": {
        "colab": {
          "base_uri": "https://localhost:8080/"
        },
        "id": "QQw8EsCuo7DL",
        "outputId": "170cdf8a-e570-408b-c27e-97ade6de0c53"
      },
      "source": [
        "O=np.array([138,873,4862,4127])\n",
        "T=np.array([506,506,4494,4494])\n",
        "D=np.sum(np.square(T-O)/T)\n",
        "pvalue=chi2.sf(D, df=1)\n",
        "print(\"distance d: {0}\\np-value: {1}\".format(D,pvalue))"
      ],
      "execution_count": 38,
      "outputs": [
        {
          "output_type": "stream",
          "text": [
            "distance d: 593.9254095491397\n",
            "p-value: 3.508180411512846e-131\n"
          ],
          "name": "stdout"
        }
      ]
    },
    {
      "cell_type": "markdown",
      "metadata": {
        "id": "LLEUBUInqU54"
      },
      "source": [
        "Мы получили какое-то бесконечно маленькое plavue. Очевидно, что тестовая страница во втором тесте отлично просто отрабатывает. Что бы мы там ни сделали, нужно вносить такие же изменения. Даже не верится, надо сроки проверить"
      ]
    },
    {
      "cell_type": "code",
      "metadata": {
        "id": "NCTnnBpltHwW"
      },
      "source": [
        "experiment2_1['timestamp']=pd.to_datetime(experiment2_1['timestamp'])"
      ],
      "execution_count": 45,
      "outputs": []
    },
    {
      "cell_type": "code",
      "metadata": {
        "id": "F2ZsjiqLsLTD"
      },
      "source": [
        "experiment2_1['date_only']=experiment2_1['timestamp'].dt.date"
      ],
      "execution_count": 46,
      "outputs": []
    },
    {
      "cell_type": "code",
      "metadata": {
        "colab": {
          "base_uri": "https://localhost:8080/",
          "height": 445
        },
        "id": "pUBop6Risgfb",
        "outputId": "3496d5dd-9983-4381-ba5b-9c3e6ac171c9"
      },
      "source": [
        "pd.crosstab(experiment2_1.date_only, experiment2_1.client_id.nunique())"
      ],
      "execution_count": 48,
      "outputs": [
        {
          "output_type": "execute_result",
          "data": {
            "text/html": [
              "<div>\n",
              "<style scoped>\n",
              "    .dataframe tbody tr th:only-of-type {\n",
              "        vertical-align: middle;\n",
              "    }\n",
              "\n",
              "    .dataframe tbody tr th {\n",
              "        vertical-align: top;\n",
              "    }\n",
              "\n",
              "    .dataframe thead th {\n",
              "        text-align: right;\n",
              "    }\n",
              "</style>\n",
              "<table border=\"1\" class=\"dataframe\">\n",
              "  <thead>\n",
              "    <tr style=\"text-align: right;\">\n",
              "      <th>col_0</th>\n",
              "      <th>5000</th>\n",
              "    </tr>\n",
              "    <tr>\n",
              "      <th>date_only</th>\n",
              "      <th></th>\n",
              "    </tr>\n",
              "  </thead>\n",
              "  <tbody>\n",
              "    <tr>\n",
              "      <th>2020-05-01</th>\n",
              "      <td>8598</td>\n",
              "    </tr>\n",
              "    <tr>\n",
              "      <th>2020-05-02</th>\n",
              "      <td>9308</td>\n",
              "    </tr>\n",
              "    <tr>\n",
              "      <th>2020-05-03</th>\n",
              "      <td>9907</td>\n",
              "    </tr>\n",
              "    <tr>\n",
              "      <th>2020-05-04</th>\n",
              "      <td>10285</td>\n",
              "    </tr>\n",
              "    <tr>\n",
              "      <th>2020-05-05</th>\n",
              "      <td>10127</td>\n",
              "    </tr>\n",
              "    <tr>\n",
              "      <th>...</th>\n",
              "      <td>...</td>\n",
              "    </tr>\n",
              "    <tr>\n",
              "      <th>2020-12-26</th>\n",
              "      <td>1149</td>\n",
              "    </tr>\n",
              "    <tr>\n",
              "      <th>2020-12-27</th>\n",
              "      <td>1267</td>\n",
              "    </tr>\n",
              "    <tr>\n",
              "      <th>2020-12-28</th>\n",
              "      <td>1375</td>\n",
              "    </tr>\n",
              "    <tr>\n",
              "      <th>2020-12-29</th>\n",
              "      <td>1282</td>\n",
              "    </tr>\n",
              "    <tr>\n",
              "      <th>2020-12-30</th>\n",
              "      <td>1112</td>\n",
              "    </tr>\n",
              "  </tbody>\n",
              "</table>\n",
              "<p>244 rows × 1 columns</p>\n",
              "</div>"
            ],
            "text/plain": [
              "col_0        5000\n",
              "date_only        \n",
              "2020-05-01   8598\n",
              "2020-05-02   9308\n",
              "2020-05-03   9907\n",
              "2020-05-04  10285\n",
              "2020-05-05  10127\n",
              "...           ...\n",
              "2020-12-26   1149\n",
              "2020-12-27   1267\n",
              "2020-12-28   1375\n",
              "2020-12-29   1282\n",
              "2020-12-30   1112\n",
              "\n",
              "[244 rows x 1 columns]"
            ]
          },
          "metadata": {
            "tags": []
          },
          "execution_count": 48
        }
      ]
    },
    {
      "cell_type": "code",
      "metadata": {
        "id": "k9PpivG-uHBK"
      },
      "source": [
        "experiment2_2['timestamp']=pd.to_datetime(experiment2_2['timestamp'])"
      ],
      "execution_count": 49,
      "outputs": []
    },
    {
      "cell_type": "code",
      "metadata": {
        "id": "QX3IFnDfuWqO"
      },
      "source": [
        "experiment2_2['date_only']=experiment2_2['timestamp'].dt.date"
      ],
      "execution_count": 50,
      "outputs": []
    },
    {
      "cell_type": "code",
      "metadata": {
        "colab": {
          "base_uri": "https://localhost:8080/",
          "height": 445
        },
        "id": "InroeA9-uaJB",
        "outputId": "4eb7b83f-6e85-4cc4-8c1f-97442b833c5f"
      },
      "source": [
        "pd.crosstab(experiment2_2.date_only, experiment2_2.client_id.nunique())"
      ],
      "execution_count": 51,
      "outputs": [
        {
          "output_type": "execute_result",
          "data": {
            "text/html": [
              "<div>\n",
              "<style scoped>\n",
              "    .dataframe tbody tr th:only-of-type {\n",
              "        vertical-align: middle;\n",
              "    }\n",
              "\n",
              "    .dataframe tbody tr th {\n",
              "        vertical-align: top;\n",
              "    }\n",
              "\n",
              "    .dataframe thead th {\n",
              "        text-align: right;\n",
              "    }\n",
              "</style>\n",
              "<table border=\"1\" class=\"dataframe\">\n",
              "  <thead>\n",
              "    <tr style=\"text-align: right;\">\n",
              "      <th>col_0</th>\n",
              "      <th>5000</th>\n",
              "    </tr>\n",
              "    <tr>\n",
              "      <th>date_only</th>\n",
              "      <th></th>\n",
              "    </tr>\n",
              "  </thead>\n",
              "  <tbody>\n",
              "    <tr>\n",
              "      <th>2020-05-01</th>\n",
              "      <td>15946</td>\n",
              "    </tr>\n",
              "    <tr>\n",
              "      <th>2020-05-02</th>\n",
              "      <td>16086</td>\n",
              "    </tr>\n",
              "    <tr>\n",
              "      <th>2020-05-03</th>\n",
              "      <td>16869</td>\n",
              "    </tr>\n",
              "    <tr>\n",
              "      <th>2020-05-04</th>\n",
              "      <td>16849</td>\n",
              "    </tr>\n",
              "    <tr>\n",
              "      <th>2020-05-05</th>\n",
              "      <td>18391</td>\n",
              "    </tr>\n",
              "    <tr>\n",
              "      <th>...</th>\n",
              "      <td>...</td>\n",
              "    </tr>\n",
              "    <tr>\n",
              "      <th>2020-12-26</th>\n",
              "      <td>2190</td>\n",
              "    </tr>\n",
              "    <tr>\n",
              "      <th>2020-12-27</th>\n",
              "      <td>1881</td>\n",
              "    </tr>\n",
              "    <tr>\n",
              "      <th>2020-12-28</th>\n",
              "      <td>2197</td>\n",
              "    </tr>\n",
              "    <tr>\n",
              "      <th>2020-12-29</th>\n",
              "      <td>1986</td>\n",
              "    </tr>\n",
              "    <tr>\n",
              "      <th>2020-12-30</th>\n",
              "      <td>2168</td>\n",
              "    </tr>\n",
              "  </tbody>\n",
              "</table>\n",
              "<p>244 rows × 1 columns</p>\n",
              "</div>"
            ],
            "text/plain": [
              "col_0        5000\n",
              "date_only        \n",
              "2020-05-01  15946\n",
              "2020-05-02  16086\n",
              "2020-05-03  16869\n",
              "2020-05-04  16849\n",
              "2020-05-05  18391\n",
              "...           ...\n",
              "2020-12-26   2190\n",
              "2020-12-27   1881\n",
              "2020-12-28   2197\n",
              "2020-12-29   1986\n",
              "2020-12-30   2168\n",
              "\n",
              "[244 rows x 1 columns]"
            ]
          },
          "metadata": {
            "tags": []
          },
          "execution_count": 51
        }
      ]
    },
    {
      "cell_type": "markdown",
      "metadata": {
        "id": "mmRjyzq9us72"
      },
      "source": [
        "Как-то в эксперименте 2_2 в 2 раза больше трафика в предновогодние дни. Если мы уверены, что ничего для этого не делали, люди просто возвращались наконец дооформить покупку, то эксперимент удачный. Но надо подумать"
      ]
    }
  ]
}